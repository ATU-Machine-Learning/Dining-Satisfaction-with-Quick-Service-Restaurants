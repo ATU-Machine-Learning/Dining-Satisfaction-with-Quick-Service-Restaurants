{
 "cells": [
  {
   "attachments": {},
   "cell_type": "markdown",
   "metadata": {},
   "source": [
    "#### Import the necessary libraries\n"
   ]
  },
  {
   "cell_type": "code",
   "execution_count": null,
   "metadata": {},
   "outputs": [],
   "source": [
    "# Pandas\n",
    "\n",
    "# Numpy\n",
    "\n",
    "# Matplotlib\n",
    "\n",
    "# Seaborn"
   ]
  },
  {
   "attachments": {},
   "cell_type": "markdown",
   "metadata": {},
   "source": [
    "#### Importing the dataset & Initial Data Cleaning"
   ]
  },
  {
   "cell_type": "code",
   "execution_count": null,
   "metadata": {},
   "outputs": [],
   "source": [
    "# Import dataset using Pandas and set ID as index\n",
    "\n",
    "\n",
    "# Print the first 5 rows of the dataset using Pandas\n"
   ]
  },
  {
   "cell_type": "code",
   "execution_count": null,
   "metadata": {},
   "outputs": [],
   "source": [
    "# Loop through the columns and if a column has an int or float, then add fill it's NaN values with 0"
   ]
  },
  {
   "attachments": {},
   "cell_type": "markdown",
   "metadata": {},
   "source": [
    "#### Feature Engineering\n",
    "- Make a function to calculate the sum of all of the scores for each row from column name 'appealing' to 'visit again' \n",
    "- and store it into a new column called 'total score'"
   ]
  },
  {
   "cell_type": "code",
   "execution_count": 1,
   "metadata": {},
   "outputs": [],
   "source": [
    "# Make the function here\n",
    "\n",
    "\n",
    "\n",
    "\n",
    "# Implement the function here\n",
    "\n"
   ]
  },
  {
   "attachments": {},
   "cell_type": "markdown",
   "metadata": {},
   "source": [
    "#### Exploritory Data Analysis\n",
    "- Use MatPlotLib and Seaborn to create visualizations of the data using the questions in each cell"
   ]
  },
  {
   "cell_type": "code",
   "execution_count": null,
   "metadata": {},
   "outputs": [],
   "source": [
    "# Make a bar graph of the restaurants with the most perfect score and how many perfect scores they have with Matplotlib\n",
    "\n"
   ]
  },
  {
   "cell_type": "code",
   "execution_count": null,
   "metadata": {},
   "outputs": [],
   "source": [
    "# Make the same plot using Seaborn just for Practice :-)\n"
   ]
  },
  {
   "cell_type": "code",
   "execution_count": null,
   "metadata": {},
   "outputs": [],
   "source": [
    "# Get the top 5 most picked restaurants from favorite QSR and their average rating for recommend\n"
   ]
  },
  {
   "cell_type": "code",
   "execution_count": null,
   "metadata": {},
   "outputs": [],
   "source": [
    "# Make a correlation matrix heatmap of the dataset only using the features that score the restaurant on a scale of 1-5 up to the recommend and Total Score feature you created earlier\n"
   ]
  },
  {
   "attachments": {},
   "cell_type": "markdown",
   "metadata": {},
   "source": [
    "#### Modeling\n",
    "\n",
    "- For the modeling section, we will be using KMeans. KMeans is a method of clustering (unsupervised learning).\n",
    "- We will be classifing our data into clusters or sections based on their behavior. In this case, the behavior will be the total score (the feature that we made earlier) and the recommendation score given. "
   ]
  },
  {
   "cell_type": "code",
   "execution_count": null,
   "metadata": {},
   "outputs": [],
   "source": [
    "# Import KMeans from Scikit-learn\n"
   ]
  },
  {
   "cell_type": "code",
   "execution_count": null,
   "metadata": {},
   "outputs": [],
   "source": [
    "# Put 'Total Score' and 'recommend' into a list called relevant_features\n",
    "\n",
    "\n",
    "\n",
    "# Make variable X equal to the values of the relevant_features in df\n",
    "\n",
    "\n",
    "\n",
    "# Make an empty list called results\n",
    "\n",
    "\n",
    "\n",
    "# Write a loop that runs through the range of 1-10 (which represents the amount of clusters) and fits the data to KMeans for each amount of cluster between 1-10 with init of \"k-means++\" and random state of 42.\n",
    "# Finally, append the inertia_ to the results list as the last line in the loop\n",
    "\n",
    "\n",
    "\n"
   ]
  },
  {
   "cell_type": "code",
   "execution_count": null,
   "metadata": {},
   "outputs": [],
   "source": [
    "# Plot the results in a plot of range 1-10\n"
   ]
  },
  {
   "attachments": {},
   "cell_type": "markdown",
   "metadata": {},
   "source": [
    "Notice where the elbow of the plot is and how it is the best place to choose the amount of clusters.\n",
    "\n",
    "Model X according to the amount of clusters that the intruction above suggests.\n"
   ]
  },
  {
   "cell_type": "code",
   "execution_count": null,
   "metadata": {},
   "outputs": [],
   "source": [
    "# Model here\n",
    "\n",
    "\n",
    "# Set model equal to KMeans with 3 clusters, init of \"k-means++\" and random state of 42\n",
    "\n",
    "\n",
    "# fit_predict the X into y_kmeans\n",
    "\n"
   ]
  },
  {
   "attachments": {},
   "cell_type": "markdown",
   "metadata": {},
   "source": [
    "#### Plotting the Clusters"
   ]
  },
  {
   "cell_type": "code",
   "execution_count": null,
   "metadata": {},
   "outputs": [],
   "source": [
    "# Set num_clusters equal to the amount of unique values in y_kmeans\n",
    "\n",
    "\n",
    "# Make a scatter plot of the clusters using a for loop and plt.scatter\n",
    "\n",
    "\n",
    "\n",
    "# Plot the centroids of the clusters\n",
    "\n",
    "\n",
    "# Set the title of the plot\n",
    "\n",
    "\n",
    "# Set the x and y labels\n",
    "\n",
    "\n",
    "\n",
    "# Show the legend\n",
    "\n",
    "\n",
    "# Show the plot\n"
   ]
  },
  {
   "attachments": {},
   "cell_type": "markdown",
   "metadata": {},
   "source": [
    "#### Understanding the output"
   ]
  },
  {
   "cell_type": "code",
   "execution_count": null,
   "metadata": {},
   "outputs": [],
   "source": [
    "# Write a short summary explaining each cluster and what they represent\n",
    "\n"
   ]
  }
 ],
 "metadata": {
  "kernelspec": {
   "display_name": "Python 3",
   "language": "python",
   "name": "python3"
  },
  "language_info": {
   "codemirror_mode": {
    "name": "ipython",
    "version": 3
   },
   "file_extension": ".py",
   "mimetype": "text/x-python",
   "name": "python",
   "nbconvert_exporter": "python",
   "pygments_lexer": "ipython3",
   "version": "3.11.3"
  },
  "orig_nbformat": 4
 },
 "nbformat": 4,
 "nbformat_minor": 2
}
